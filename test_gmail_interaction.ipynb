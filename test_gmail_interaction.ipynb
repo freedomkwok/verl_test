{
 "cells": [
  {
   "cell_type": "code",
   "execution_count": 1,
   "id": "bb614f10-3894-4594-90bb-0404d7dad21e",
   "metadata": {},
   "outputs": [
    {
     "name": "stderr",
     "output_type": "stream",
     "text": [
      "/Users/freedomkwokmacbookpro/miniforge3/envs/openrl/lib/python3.10/site-packages/tqdm/auto.py:21: TqdmWarning: IProgress not found. Please update jupyter and ipywidgets. See https://ipywidgets.readthedocs.io/en/stable/user_install.html\n",
      "  from .autonotebook import tqdm as notebook_tqdm\n",
      "2025-09-09 13:42:24,561\tINFO util.py:154 -- Missing packages: ['ipywidgets']. Run `pip install -U ipywidgets`, then restart the notebook server for rich notebook output.\n"
     ]
    }
   ],
   "source": [
    "from verl.interactions.gmail_interaction import GmailInteraction"
   ]
  },
  {
   "cell_type": "code",
   "execution_count": 2,
   "id": "e36eba17-45fc-439b-8a78-eae140fac199",
   "metadata": {},
   "outputs": [],
   "source": [
    "config = {\n",
    "            \"env_server_base\": \"http://127.0.0.1\",\n",
    "            \"env_server_port\": 8000,\n",
    "            \"timeout\": 30\n",
    "        }\n",
    "gmail_interaction = GmailInteraction(config)"
   ]
  },
  {
   "cell_type": "code",
   "execution_count": 3,
   "id": "073b3b2a-79a9-4d7a-ba0c-8140f2602085",
   "metadata": {},
   "outputs": [],
   "source": [
    "instance_id = await gmail_interaction.start_interaction(ground_truth=\"Test ground truth\")"
   ]
  },
  {
   "cell_type": "code",
   "execution_count": 4,
   "id": "c7a69578-a51b-41a0-9f93-432341b32297",
   "metadata": {},
   "outputs": [
    {
     "data": {
      "text/plain": [
       "'6bacab0c-7cf7-4699-8cce-1c461ea77076'"
      ]
     },
     "execution_count": 4,
     "metadata": {},
     "output_type": "execute_result"
    }
   ],
   "source": [
    "instance_id"
   ]
  },
  {
   "cell_type": "code",
   "execution_count": null,
   "id": "9ff0b643-218f-4c1d-935d-67ecc8e825db",
   "metadata": {},
   "outputs": [],
   "source": []
  }
 ],
 "metadata": {
  "kernelspec": {
   "display_name": "openrl",
   "language": "python",
   "name": "python3"
  },
  "language_info": {
   "codemirror_mode": {
    "name": "ipython",
    "version": 3
   },
   "file_extension": ".py",
   "mimetype": "text/x-python",
   "name": "python",
   "nbconvert_exporter": "python",
   "pygments_lexer": "ipython3",
   "version": "3.10.18"
  }
 },
 "nbformat": 4,
 "nbformat_minor": 5
}
