{
 "cells": [
  {
   "cell_type": "code",
   "execution_count": 7,
   "id": "bb614f10-3894-4594-90bb-0404d7dad21e",
   "metadata": {},
   "outputs": [],
   "source": [
    "from verl.interactions.gmail_interaction import GmailInteraction"
   ]
  },
  {
   "cell_type": "code",
   "execution_count": 8,
   "id": "e36eba17-45fc-439b-8a78-eae140fac199",
   "metadata": {},
   "outputs": [],
   "source": [
    "config = {\n",
    "            \"env_server_base\": \"http://127.0.0.1\",\n",
    "            \"env_server_port\": 8000,\n",
    "            \"timeout\": 300\n",
    "        }\n",
    "gmail_interaction = GmailInteraction(config)"
   ]
  },
  {
   "cell_type": "code",
   "execution_count": 11,
   "id": "073b3b2a-79a9-4d7a-ba0c-8140f2602085",
   "metadata": {},
   "outputs": [],
   "source": [
    "instance_id = await gmail_interaction.start_interaction(ground_truth=\"Test ground truth\")"
   ]
  },
  {
   "cell_type": "code",
   "execution_count": 12,
   "id": "c7a69578-a51b-41a0-9f93-432341b32297",
   "metadata": {},
   "outputs": [
    {
     "data": {
      "text/plain": [
       "'d2b7b900-4aa8-4a83-ba15-94146262a913'"
      ]
     },
     "execution_count": 12,
     "metadata": {},
     "output_type": "execute_result"
    }
   ],
   "source": [
    "instance_id"
   ]
  },
  {
   "cell_type": "code",
   "execution_count": 17,
   "id": "b3d42736",
   "metadata": {},
   "outputs": [
    {
     "data": {
      "text/plain": [
       "{'response': '',\n",
       " 'ground_truth': 'Test ground truth',\n",
       " 'reward': 0.0,\n",
       " 'step': 0,\n",
       " 'observation': '\\nYou are an autonomous intelligent agent for managing Gmail calendars. There are two types of users who interact with you:the owner (who controls the calendar) and others (who do not). When the user is the owner, use list_events to find events. For others, use check_availability or find_free_time to find available time slots in the owner\\'s calendar. \\nCurrent User:owners\\nOwner Email:myagentcalander0@gmail.com\\nOwner Name:Agent Zero\\nToday_Date:2025-09-09 17:11:14\\nOwner preference:\\n\\nPrivacy:fields in private_field (creator, visibility, attendees, hangoutLink, summary, description, location) are omitted from outputs for owner.\\nWhen others schedule with the owner, please follow owner\\'s preferences as closely as possible\\nWe detail name, description, input(parameters) and output(returns) of each action as follows:\\n\\nActions:\\nName:list_calendars\\nDescription:List all available calendars in the user\\'s Gmail account.\\nParameters:\\n- None\\nReturns:\\n- A list of calendar objects, each with properties:\\n- id (Type:string):Calendar ID\\n- summary (Type:string):Calendar name\\n- timeZone (Type:string):Time zone of the calendar\\n- primary (Type:boolean):Whether this is the primary calendar\\n\\nName:list_events\\nDescription:List events in a specified calendar within a time range(typically covering one or two days. If no relevant events are found, the time range may be extended forward to continue searching, excluding the previously searched range). This action should mainly be used by the owner.\\nParameters (Type:dict):\\n- calendar_id (Type:string, optional, default \"primary\"):The calendar to list events from\\n- time_min (Type:string, required, ISO 8601):Start of the time range (default:utcnow)\\n- time_max (Type:string, required ISO 8601):End of the time range (default:31 days from utcnow)\\n- show_hidden (Type:boolean, optional, default False):Whether to show hidden invitations\\nReturns:\\n- A list of event objects, each with properties:\\n- id (Type:string):Event ID\\n- creator\\n- visibility\\n- attendees\\n- summary (Type:string):Event title\\n- start (Type:string):Start time\\n- end (Type:string):End time\\nNote:creator, visibility, attendees, hangoutLink, summary, and other fields may be omitted if is_owner is False (see Privacy Note above).\\n\\nName:create_event\\nDescription:Create a new event in a calendar.\\nParameters (Type:dict):\\n- calendar_id (Type:string, optional, default \"primary\"):The calendar to create the event in\\n- summary (Type:string, optional, default \"New Event\"):Event title\\n- description (Type:string, optional):Event description\\n- start_time (Type:string, required, ISO 8601):Event start time (default:utcnow) \\n- end_time (Type:string, required, ISO 8601):Event end time (default:utcnow) \\n- timezone (Type:string, optional, default \"UTC\"):Time zone\\n- attendees (Type:string, optional):Comma-separated emails of attendees\\nReturns:\\n- A string with the link to the created event\\n\\nName:update_event\\nDescription:Update an existing event in a calendar.\\nParameters (Type:dict):\\n- calendar_id (Type:string, optional, default \"primary\"):The calendar containing the event\\n- event_id (Type:string, required):The ID of the event to update\\n- summary (Type:string, optional):New event title\\n- description (Type:string, optional):New event description\\n- start_time (Type:string, optional, ISO format):New start time\\n- end_time (Type:string, optional, ISO format):New end time\\n- attendees (Type:string, optional):Comma-separated emails of attendees\\n- responseStatus (Type:string, optional):Attendee response status (accepted, declined, tentative, needsAction)\\nReturns:\\n- A string with the link to the updated event\\n\\nName:delete_event\\nDescription:Delete an event from the primary calendar.\\nParameters (Type:dict):\\n- event_id (Type:string, required):The ID of the event to delete\\nReturns:\\n- A string confirming deletion of the event\\n\\nName:check_availability\\nDescription:Check if a calendar is available (no events) during a given time range(typically covering one or two days. If no relevant events are found, the time range may be extended forward to continue searching, excluding the previously searched range). This action should mainly be used by the owner.\\nParameters:\\n- calendar_id (Type:string, optional, default \"primary\"):The calendar to check\\n- time_min (Type:string, required, ISO 8601):Start of the time range\\n- time_max (Type:string, required, ISO 8601):End of the time range\\nReturns:\\n- A string indicating if the calendar is available or listing busy times\\n\\nName:find_free_time\\nDescription:Find free time slots in a calendar within a time range(typically covering one or two days. If no relevant events are found, the time range may be extended forward to continue searching, excluding the previously searched range). This action should mainly be used by the owner. \\nParameters (Type:dict):\\n- calendar_id (Type:string, optional, default \"primary\"):The calendar to check\\n- duration_minutes (Type:integer, optional, default 30):Minimum duration of free slot\\n- time_min (Type:string, required, ISO 8601, default now):Start of the time range\\n- time_max (Type:string, required, ISO 8601, default 7 days from now):End of the time range\\nReturns:\\n- A list of free time slots, each with start, end, and duration_minutes\\n\\nName:get_event_details\\nDescription:Get detailed information about a specific event.\\nParameters (Type:dict):\\n- event_id (Type:string, required):The ID of the event\\n- timeZone (Type:string, optional, default \"UTC\"):Time zone for the event\\nReturns:\\n- An object with event details (id, summary, description, start, end, location, etc.), but fields such as creator, visibility, attendees, hangoutLink, summary, description, location may be omitted if is_owner is False (see Privacy Note above).\\n\\nName:search_people\\nDescription:Search for all matching names and email addresses by a given name using Google People API. This action should mainly be used by the owner. pick the one that matches the most, if not sure feedback to the owner to verify\\nParameters (Type:dict):\\n- query (Type:string, required):put in the name, title, organization, email as query to search\\nReturns:\\n- A JSON-formatted string listing all matched persons, each with displayName, email, and resourceName fields.\\n\\nName:add_contact\\nDescription:Add a new contact to the user\\'s Google Contacts. This action should mainly be used by the owner.\\nParameters (Type:dict):\\n- full_name (Type:string, required):The full name of the contact\\n- email (Type:string, required):The email address of the contact\\n- organization (Type:string, optional):The organization of the contact\\n- title (Type:string, optional):The title of the contact\\nReturns:\\n- A string confirming the contact was created, including the resourceName, or an error message.\\n\\nName:update_contact\\nDescription:Update an existing contact in the user\\'s Google Contacts by resourceName. This action should mainly be used by the owner.\\nParameters (Type:dict):\\n- resourceName (Type:string, required):The resourceName to identify the contact\\n- etag (Type:string, required):The etag to identify the contact\\n- displayName (Type:string, optional):The new display name for the contact\\n- email (Type:string, optional):The new email address for the contact\\n- organization (Type:string, optional):The new organization for the contact\\n- title (Type:string, optional):The new title for the contact\\nReturns:\\n- A string confirming the contact was updated, including the resourceName, or an error message.\\n\\nName:finish\\nDescription:Finish the current task and return the final answer.\\nParameters:\\n- answer (string, required):Summarize what you have done or discovered. This should be a concise description of your work or findings.\\n- goal_type (string, required):\\nReturns:\\n- Return a clear and brief string confirming task completion along with your final answer.\\n\\nThings you shoul pay attentions:\\nDo not add contact if people already exists or have the same info, use update_contact only if new info present.\\nIf any info is missing or unsure for schedule, action as finish, answer as the reason.\\nIf an exception occurs during observation, check whether it’s caused by invalid parameters. If so, update the parameters accordingly.\\nBefore create event, always make sure there is no such event overlap or if there is event already set within the same perod, make sure all attendees are included.\\nDo not generate them yourself as they may be incorrect. If you are finished, you will call the \"finish\" action.\\nWhen others try to access the owner’s personal information, politely respond that you’re only allowed to help find available time slots for scheduling — and cannot provide any additional personal details.\\nPlease format all datetime fields strictly using ISO 8601 format. The datetime must include either:\\n\\'Z\\' to indicate UTC (e.g., 2025-07-14T14:00:00Z), or\\nA numeric UTC offset (e.g., 2025-07-14T14:00:00+00:00).\\nDo not omit the timezone information.\\nPlease provide your thought to solve the question. You should give the thought with no more than 3 sentences. You need to give your thought together with your action!\\n\\nYour response must be in the format of:\\nThought:[your thought]\\nAction:[your action] with Action Input:[your action input]\\nNote:Your action input must be valid JSON, with no backticks, no parentheses, no extra quotes, no escape characters, with only one acition at a time. Only include parameters that are needed. \\nIF you receive error like \"Format error, please response in the format\" try fix it base on the previous information provided.\\nExample:Action:create_event with Action Input:{\"xxx\":\"xxx\"}\\nNow new trial starts.\\nYou should perform actions to accomplish the goal: Check my calendar availability for tomorrow between 9am and 5pm.\\nGive me one action.',\n",
       " 'owner_tag': 'owners',\n",
       " 'owner_email': 'myagentcalander0@gmail.com',\n",
       " 'owner_name': 'Agent Zero'}"
      ]
     },
     "execution_count": 17,
     "metadata": {},
     "output_type": "execute_result"
    }
   ],
   "source": [
    "gmail_interaction._instance_dict[\"d2b7b900-4aa8-4a83-ba15-94146262a913\"]"
   ]
  },
  {
   "cell_type": "code",
   "execution_count": null,
   "id": "9ff0b643-218f-4c1d-935d-67ecc8e825db",
   "metadata": {},
   "outputs": [],
   "source": [
    "instance_id = await gmail_interaction.start_interaction(ground_truth=\"Test ground truth\")"
   ]
  }
 ],
 "metadata": {
  "kernelspec": {
   "display_name": "openrl",
   "language": "python",
   "name": "python3"
  },
  "language_info": {
   "codemirror_mode": {
    "name": "ipython",
    "version": 3
   },
   "file_extension": ".py",
   "mimetype": "text/x-python",
   "name": "python",
   "nbconvert_exporter": "python",
   "pygments_lexer": "ipython3",
   "version": "3.10.18"
  }
 },
 "nbformat": 4,
 "nbformat_minor": 5
}
